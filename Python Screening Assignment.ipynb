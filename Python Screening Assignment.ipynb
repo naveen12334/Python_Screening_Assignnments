{
 "cells": [
  {
   "cell_type": "markdown",
   "id": "4e6e371e",
   "metadata": {},
   "source": [
    "# PYTHON SCREENING ASSIGNMENT"
   ]
  },
  {
   "cell_type": "markdown",
   "id": "c66e895c",
   "metadata": {},
   "source": [
    "# 1.Create a function in python to read the text file and replace specific content of the file."
   ]
  },
  {
   "cell_type": "markdown",
   "id": "caa94dcf",
   "metadata": {},
   "source": [
    "File Name -> example.txt\n",
    "\n",
    "Origin File Content -> This is a placement assignment\n",
    "\n",
    "Replace String -> Placement should be replaced by screening\n",
    "\n",
    "Replaced File Content -> This is a screening assignment"
   ]
  },
  {
   "cell_type": "code",
   "execution_count": 47,
   "id": "e2b4ce8d",
   "metadata": {},
   "outputs": [
    {
     "name": "stdout",
     "output_type": "stream",
     "text": [
      "Enter text to be replaced:This is a placement assignment\n",
      "Enter text that will replace:This is a screening assignment\n",
      "Text successfully replaced\n"
     ]
    }
   ],
   "source": [
    "# Python program to replace text in a file\n",
    "x = input(\"Enter text to be replaced:\")\n",
    "y = input(\"Enter text that will replace:\")\n",
    " \n",
    "# example.txt should be replaced with\n",
    "# the actual text file name\n",
    "z = open(\"example.txt\", \"w\")\n",
    "f = open(\"example.txt\",\"r+\")\n",
    " \n",
    "# each sentence becomes an element in the list l\n",
    "l = f.readlines()\n",
    " \n",
    "# acts as a counter to know the index of the element to be replaced\n",
    "c = 0\n",
    "for i in l:\n",
    "    if x in i:\n",
    " \n",
    "        # Replacement carries the value of the text to be replaced\n",
    "        Replacement = i.replace(x, y)\n",
    " \n",
    "        # changes are made in the list\n",
    "        l = Replacement\n",
    "    c += 1\n",
    " \n",
    "# The pre existing text in the file is erased\n",
    "f.truncate(0)\n",
    " \n",
    "# the modified list is written into\n",
    "# the file thereby replacing the old text\n",
    "f.writelines(l)\n",
    "f.close()\n",
    "print(\"Text successfully replaced\")"
   ]
  },
  {
   "cell_type": "markdown",
   "id": "632c6455",
   "metadata": {},
   "source": [
    "# 2. Demonstrate use of abstract class, multiple inheritance and decorator in python using examples."
   ]
  },
  {
   "cell_type": "markdown",
   "id": "89b4ecf3",
   "metadata": {},
   "source": [
    "***ABSTRACT CLASS*** -> An abstract class can be considered as a blueprint for other classes. It allows us to create a set of methods that must be created within any child classes built from the abstract class.A class which contains one or more abstract methods is called an abstract class.\n",
    "\n",
    "An abstract method is a method that has a declaration but does not have an implementation.\n",
    "\n",
    "For example, we don’t know how the phone records a video by pressing the record button, we just touch/press a button and it does that."
   ]
  },
  {
   "cell_type": "code",
   "execution_count": 3,
   "id": "16d2c59b",
   "metadata": {},
   "outputs": [
    {
     "name": "stdout",
     "output_type": "stream",
     "text": [
      "This is a Python Screening Assignment\n",
      "It based on Abstraction Concept\n",
      "It based on Multiple Inheritance\n",
      "It based on Decorator\n"
     ]
    }
   ],
   "source": [
    "# Python program showing abstract base class work\n",
    " \n",
    "from abc import ABC, abstractmethod\n",
    " \n",
    "class Python(ABC):\n",
    " \n",
    "    @abstractmethod\n",
    "    def assign(self):\n",
    "        pass\n",
    " \n",
    "class Screening(Python):\n",
    " \n",
    "    # overriding abstract method\n",
    "    def assign(self):\n",
    "        print(\"This is a Python Screening Assignment\")\n",
    " \n",
    "class Abstraction(Python):\n",
    " \n",
    "    # overriding abstract method\n",
    "    def assign(self):\n",
    "        print(\"It based on Abstraction Concept\")\n",
    " \n",
    "class Inheritance(Python):\n",
    " \n",
    "    # overriding abstract method\n",
    "    def assign(self):\n",
    "        print(\"It based on Multiple Inheritance\")\n",
    " \n",
    "class Decorator(Python):\n",
    " \n",
    "    # overriding abstract method\n",
    "    def assign(self):\n",
    "        print(\"It based on Decorator\")\n",
    " \n",
    "# Driver code\n",
    "R = Screening()\n",
    "R.assign()\n",
    " \n",
    "K = Abstraction()\n",
    "K.assign()\n",
    " \n",
    "R = Inheritance()\n",
    "R.assign()\n",
    " \n",
    "K = Decorator()\n",
    "K.assign()"
   ]
  },
  {
   "cell_type": "markdown",
   "id": "c2f61d0c",
   "metadata": {},
   "source": [
    "***Multiple Inheritance*** -> Multiple Inheritance is a type of Inheritance which is used to inherit features and properties from more than one parent class.In multiple inheritance the derived class inherits all the futures of the base class.\n",
    "\n",
    "For example,A child inherits all the features from his/her parents."
   ]
  },
  {
   "cell_type": "code",
   "execution_count": 6,
   "id": "ac23d194",
   "metadata": {},
   "outputs": [
    {
     "name": "stdout",
     "output_type": "stream",
     "text": [
      "This is a Python Screening Assignment\n",
      "It based on Abstraction Concept\n",
      "It based on Multiple Inheritance\n",
      "It based on Decorator\n"
     ]
    }
   ],
   "source": [
    "# Python Program to depict multiple inheritance when every class defines the same method\n",
    " \n",
    "class Python:\n",
    "    def ass(self):\n",
    "        print(\"This is a Python Screening Assignment\")\n",
    "       \n",
    "class Abstraction(Python):\n",
    "    def ass(self):\n",
    "        print(\"It based on Abstraction Concept\")\n",
    " \n",
    "class Inheritance(Python):\n",
    "    def ass(self):\n",
    "         print(\"It based on Multiple Inheritance\")    \n",
    "     \n",
    "class Decorator(Abstraction, Inheritance):\n",
    "    def ass(self):\n",
    "        print(\"It based on Decorator\")  \n",
    " \n",
    "obj = Python()\n",
    "obj.ass()\n",
    " \n",
    "Abstraction.ass(obj)\n",
    "Inheritance.ass(obj)\n",
    "Decorator.ass(obj)"
   ]
  },
  {
   "cell_type": "markdown",
   "id": "1543707f",
   "metadata": {},
   "source": [
    "***Decorators*** -> Decorators allow us to change the behavior of a function without modifying the function itself.It is very powerful and useful tool in Python since it allows programmers to modify the behaviour of function or class. \n",
    "\n",
    "For example -> Decorators allow us to wrap another function in order to extend the behaviour of the wrapped function, without permanently modifying it."
   ]
  },
  {
   "cell_type": "code",
   "execution_count": 27,
   "id": "2a0c03c0",
   "metadata": {},
   "outputs": [
    {
     "name": "stdout",
     "output_type": "stream",
     "text": [
      "This is a Python Screening Assignment\n",
      "It based on Abstraction Concept\n",
      "It based on Multiple Inheritance\n",
      "It based on Decorator\n"
     ]
    }
   ],
   "source": [
    "def my_decor(func):\n",
    "    def my_wrap(*args, **kwargs):\n",
    "        print(\"This is a Python Screening Assignment\")\n",
    "        return func(*args, **kwargs)\n",
    "    return my_wrap\n",
    "def my_another_decor(func):\n",
    "    def my_wrap(*args, **kwargs):\n",
    "        print(\"It based on Abstraction Concept\")\n",
    "        return func(*args, **kwargs)\n",
    "    return my_wrap\n",
    "@my_decor\n",
    "@my_another_decor\n",
    "def my_function(str1, str2 ,str3,str4):\n",
    "    print(\"It based on Multiple Inheritance\")\n",
    "    print(str1 + str2 + str3 + \" on \" +  str4)\n",
    "my_function(\"It\",\" \",\"based\", \"Decorator\")"
   ]
  },
  {
   "cell_type": "code",
   "execution_count": null,
   "id": "f33cc35d",
   "metadata": {},
   "outputs": [],
   "source": []
  }
 ],
 "metadata": {
  "kernelspec": {
   "display_name": "Python 3 (ipykernel)",
   "language": "python",
   "name": "python3"
  },
  "language_info": {
   "codemirror_mode": {
    "name": "ipython",
    "version": 3
   },
   "file_extension": ".py",
   "mimetype": "text/x-python",
   "name": "python",
   "nbconvert_exporter": "python",
   "pygments_lexer": "ipython3",
   "version": "3.9.11"
  }
 },
 "nbformat": 4,
 "nbformat_minor": 5
}
